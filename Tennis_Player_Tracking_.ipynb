{
  "nbformat": 4,
  "nbformat_minor": 0,
  "metadata": {
    "colab": {
      "provenance": [],
      "gpuType": "T4",
      "collapsed_sections": [
        "cKHPFTJe9XOL",
        "_c-01Ata-bCx"
      ],
      "include_colab_link": true
    },
    "kernelspec": {
      "name": "python3",
      "display_name": "Python 3"
    },
    "language_info": {
      "name": "python"
    },
    "accelerator": "GPU"
  },
  "cells": [
    {
      "cell_type": "markdown",
      "metadata": {
        "id": "view-in-github",
        "colab_type": "text"
      },
      "source": [
        "<a href=\"https://colab.research.google.com/github/nirmit10000/YOLO_player_detection_dist_calc/blob/main/Tennis_Player_Tracking_.ipynb\" target=\"_parent\"><img src=\"https://colab.research.google.com/assets/colab-badge.svg\" alt=\"Open In Colab\"/></a>"
      ]
    },
    {
      "cell_type": "markdown",
      "source": [
        "#Installations & Importing dependencies"
      ],
      "metadata": {
        "id": "cKHPFTJe9XOL"
      }
    },
    {
      "cell_type": "code",
      "source": [
        "!pip install opencv-python\n",
        "!pip install ultralytics\n",
        "\n",
        "#necessary dependencies installed"
      ],
      "metadata": {
        "colab": {
          "base_uri": "https://localhost:8080/"
        },
        "id": "tygfGu-cNPvV",
        "outputId": "cfd9648f-531b-4f77-ac5e-087553be414f"
      },
      "execution_count": 1,
      "outputs": [
        {
          "output_type": "stream",
          "name": "stdout",
          "text": [
            "Requirement already satisfied: opencv-python in /usr/local/lib/python3.11/dist-packages (4.12.0.88)\n",
            "Requirement already satisfied: numpy<2.3.0,>=2 in /usr/local/lib/python3.11/dist-packages (from opencv-python) (2.0.2)\n",
            "Collecting ultralytics\n",
            "  Downloading ultralytics-8.3.179-py3-none-any.whl.metadata (37 kB)\n",
            "Requirement already satisfied: numpy>=1.23.0 in /usr/local/lib/python3.11/dist-packages (from ultralytics) (2.0.2)\n",
            "Requirement already satisfied: matplotlib>=3.3.0 in /usr/local/lib/python3.11/dist-packages (from ultralytics) (3.10.0)\n",
            "Requirement already satisfied: opencv-python>=4.6.0 in /usr/local/lib/python3.11/dist-packages (from ultralytics) (4.12.0.88)\n",
            "Requirement already satisfied: pillow>=7.1.2 in /usr/local/lib/python3.11/dist-packages (from ultralytics) (11.3.0)\n",
            "Requirement already satisfied: pyyaml>=5.3.1 in /usr/local/lib/python3.11/dist-packages (from ultralytics) (6.0.2)\n",
            "Requirement already satisfied: requests>=2.23.0 in /usr/local/lib/python3.11/dist-packages (from ultralytics) (2.32.3)\n",
            "Requirement already satisfied: scipy>=1.4.1 in /usr/local/lib/python3.11/dist-packages (from ultralytics) (1.16.1)\n",
            "Requirement already satisfied: torch>=1.8.0 in /usr/local/lib/python3.11/dist-packages (from ultralytics) (2.6.0+cu124)\n",
            "Requirement already satisfied: torchvision>=0.9.0 in /usr/local/lib/python3.11/dist-packages (from ultralytics) (0.21.0+cu124)\n",
            "Requirement already satisfied: tqdm>=4.64.0 in /usr/local/lib/python3.11/dist-packages (from ultralytics) (4.67.1)\n",
            "Requirement already satisfied: psutil in /usr/local/lib/python3.11/dist-packages (from ultralytics) (5.9.5)\n",
            "Requirement already satisfied: py-cpuinfo in /usr/local/lib/python3.11/dist-packages (from ultralytics) (9.0.0)\n",
            "Requirement already satisfied: pandas>=1.1.4 in /usr/local/lib/python3.11/dist-packages (from ultralytics) (2.2.2)\n",
            "Collecting ultralytics-thop>=2.0.0 (from ultralytics)\n",
            "  Downloading ultralytics_thop-2.0.15-py3-none-any.whl.metadata (14 kB)\n",
            "Requirement already satisfied: contourpy>=1.0.1 in /usr/local/lib/python3.11/dist-packages (from matplotlib>=3.3.0->ultralytics) (1.3.3)\n",
            "Requirement already satisfied: cycler>=0.10 in /usr/local/lib/python3.11/dist-packages (from matplotlib>=3.3.0->ultralytics) (0.12.1)\n",
            "Requirement already satisfied: fonttools>=4.22.0 in /usr/local/lib/python3.11/dist-packages (from matplotlib>=3.3.0->ultralytics) (4.59.0)\n",
            "Requirement already satisfied: kiwisolver>=1.3.1 in /usr/local/lib/python3.11/dist-packages (from matplotlib>=3.3.0->ultralytics) (1.4.9)\n",
            "Requirement already satisfied: packaging>=20.0 in /usr/local/lib/python3.11/dist-packages (from matplotlib>=3.3.0->ultralytics) (25.0)\n",
            "Requirement already satisfied: pyparsing>=2.3.1 in /usr/local/lib/python3.11/dist-packages (from matplotlib>=3.3.0->ultralytics) (3.2.3)\n",
            "Requirement already satisfied: python-dateutil>=2.7 in /usr/local/lib/python3.11/dist-packages (from matplotlib>=3.3.0->ultralytics) (2.9.0.post0)\n",
            "Requirement already satisfied: pytz>=2020.1 in /usr/local/lib/python3.11/dist-packages (from pandas>=1.1.4->ultralytics) (2025.2)\n",
            "Requirement already satisfied: tzdata>=2022.7 in /usr/local/lib/python3.11/dist-packages (from pandas>=1.1.4->ultralytics) (2025.2)\n",
            "Requirement already satisfied: charset-normalizer<4,>=2 in /usr/local/lib/python3.11/dist-packages (from requests>=2.23.0->ultralytics) (3.4.3)\n",
            "Requirement already satisfied: idna<4,>=2.5 in /usr/local/lib/python3.11/dist-packages (from requests>=2.23.0->ultralytics) (3.10)\n",
            "Requirement already satisfied: urllib3<3,>=1.21.1 in /usr/local/lib/python3.11/dist-packages (from requests>=2.23.0->ultralytics) (2.5.0)\n",
            "Requirement already satisfied: certifi>=2017.4.17 in /usr/local/lib/python3.11/dist-packages (from requests>=2.23.0->ultralytics) (2025.8.3)\n",
            "Requirement already satisfied: filelock in /usr/local/lib/python3.11/dist-packages (from torch>=1.8.0->ultralytics) (3.18.0)\n",
            "Requirement already satisfied: typing-extensions>=4.10.0 in /usr/local/lib/python3.11/dist-packages (from torch>=1.8.0->ultralytics) (4.14.1)\n",
            "Requirement already satisfied: networkx in /usr/local/lib/python3.11/dist-packages (from torch>=1.8.0->ultralytics) (3.5)\n",
            "Requirement already satisfied: jinja2 in /usr/local/lib/python3.11/dist-packages (from torch>=1.8.0->ultralytics) (3.1.6)\n",
            "Requirement already satisfied: fsspec in /usr/local/lib/python3.11/dist-packages (from torch>=1.8.0->ultralytics) (2025.3.0)\n",
            "Collecting nvidia-cuda-nvrtc-cu12==12.4.127 (from torch>=1.8.0->ultralytics)\n",
            "  Downloading nvidia_cuda_nvrtc_cu12-12.4.127-py3-none-manylinux2014_x86_64.whl.metadata (1.5 kB)\n",
            "Collecting nvidia-cuda-runtime-cu12==12.4.127 (from torch>=1.8.0->ultralytics)\n",
            "  Downloading nvidia_cuda_runtime_cu12-12.4.127-py3-none-manylinux2014_x86_64.whl.metadata (1.5 kB)\n",
            "Collecting nvidia-cuda-cupti-cu12==12.4.127 (from torch>=1.8.0->ultralytics)\n",
            "  Downloading nvidia_cuda_cupti_cu12-12.4.127-py3-none-manylinux2014_x86_64.whl.metadata (1.6 kB)\n",
            "Collecting nvidia-cudnn-cu12==9.1.0.70 (from torch>=1.8.0->ultralytics)\n",
            "  Downloading nvidia_cudnn_cu12-9.1.0.70-py3-none-manylinux2014_x86_64.whl.metadata (1.6 kB)\n",
            "Collecting nvidia-cublas-cu12==12.4.5.8 (from torch>=1.8.0->ultralytics)\n",
            "  Downloading nvidia_cublas_cu12-12.4.5.8-py3-none-manylinux2014_x86_64.whl.metadata (1.5 kB)\n",
            "Collecting nvidia-cufft-cu12==11.2.1.3 (from torch>=1.8.0->ultralytics)\n",
            "  Downloading nvidia_cufft_cu12-11.2.1.3-py3-none-manylinux2014_x86_64.whl.metadata (1.5 kB)\n",
            "Collecting nvidia-curand-cu12==10.3.5.147 (from torch>=1.8.0->ultralytics)\n",
            "  Downloading nvidia_curand_cu12-10.3.5.147-py3-none-manylinux2014_x86_64.whl.metadata (1.5 kB)\n",
            "Collecting nvidia-cusolver-cu12==11.6.1.9 (from torch>=1.8.0->ultralytics)\n",
            "  Downloading nvidia_cusolver_cu12-11.6.1.9-py3-none-manylinux2014_x86_64.whl.metadata (1.6 kB)\n",
            "Collecting nvidia-cusparse-cu12==12.3.1.170 (from torch>=1.8.0->ultralytics)\n",
            "  Downloading nvidia_cusparse_cu12-12.3.1.170-py3-none-manylinux2014_x86_64.whl.metadata (1.6 kB)\n",
            "Requirement already satisfied: nvidia-cusparselt-cu12==0.6.2 in /usr/local/lib/python3.11/dist-packages (from torch>=1.8.0->ultralytics) (0.6.2)\n",
            "Collecting nvidia-nccl-cu12==2.21.5 (from torch>=1.8.0->ultralytics)\n",
            "  Downloading nvidia_nccl_cu12-2.21.5-py3-none-manylinux2014_x86_64.whl.metadata (1.8 kB)\n",
            "Requirement already satisfied: nvidia-nvtx-cu12==12.4.127 in /usr/local/lib/python3.11/dist-packages (from torch>=1.8.0->ultralytics) (12.4.127)\n",
            "Collecting nvidia-nvjitlink-cu12==12.4.127 (from torch>=1.8.0->ultralytics)\n",
            "  Downloading nvidia_nvjitlink_cu12-12.4.127-py3-none-manylinux2014_x86_64.whl.metadata (1.5 kB)\n",
            "Requirement already satisfied: triton==3.2.0 in /usr/local/lib/python3.11/dist-packages (from torch>=1.8.0->ultralytics) (3.2.0)\n",
            "Requirement already satisfied: sympy==1.13.1 in /usr/local/lib/python3.11/dist-packages (from torch>=1.8.0->ultralytics) (1.13.1)\n",
            "Requirement already satisfied: mpmath<1.4,>=1.1.0 in /usr/local/lib/python3.11/dist-packages (from sympy==1.13.1->torch>=1.8.0->ultralytics) (1.3.0)\n",
            "Requirement already satisfied: six>=1.5 in /usr/local/lib/python3.11/dist-packages (from python-dateutil>=2.7->matplotlib>=3.3.0->ultralytics) (1.17.0)\n",
            "Requirement already satisfied: MarkupSafe>=2.0 in /usr/local/lib/python3.11/dist-packages (from jinja2->torch>=1.8.0->ultralytics) (3.0.2)\n",
            "Downloading ultralytics-8.3.179-py3-none-any.whl (1.0 MB)\n",
            "\u001b[2K   \u001b[90m━━━━━━━━━━━━━━━━━━━━━━━━━━━━━━━━━━━━━━━━\u001b[0m \u001b[32m1.0/1.0 MB\u001b[0m \u001b[31m29.5 MB/s\u001b[0m eta \u001b[36m0:00:00\u001b[0m\n",
            "\u001b[?25hDownloading nvidia_cublas_cu12-12.4.5.8-py3-none-manylinux2014_x86_64.whl (363.4 MB)\n",
            "\u001b[2K   \u001b[90m━━━━━━━━━━━━━━━━━━━━━━━━━━━━━━━━━━━━━━━━\u001b[0m \u001b[32m363.4/363.4 MB\u001b[0m \u001b[31m3.9 MB/s\u001b[0m eta \u001b[36m0:00:00\u001b[0m\n",
            "\u001b[?25hDownloading nvidia_cuda_cupti_cu12-12.4.127-py3-none-manylinux2014_x86_64.whl (13.8 MB)\n",
            "\u001b[2K   \u001b[90m━━━━━━━━━━━━━━━━━━━━━━━━━━━━━━━━━━━━━━━━\u001b[0m \u001b[32m13.8/13.8 MB\u001b[0m \u001b[31m126.9 MB/s\u001b[0m eta \u001b[36m0:00:00\u001b[0m\n",
            "\u001b[?25hDownloading nvidia_cuda_nvrtc_cu12-12.4.127-py3-none-manylinux2014_x86_64.whl (24.6 MB)\n",
            "\u001b[2K   \u001b[90m━━━━━━━━━━━━━━━━━━━━━━━━━━━━━━━━━━━━━━━━\u001b[0m \u001b[32m24.6/24.6 MB\u001b[0m \u001b[31m74.2 MB/s\u001b[0m eta \u001b[36m0:00:00\u001b[0m\n",
            "\u001b[?25hDownloading nvidia_cuda_runtime_cu12-12.4.127-py3-none-manylinux2014_x86_64.whl (883 kB)\n",
            "\u001b[2K   \u001b[90m━━━━━━━━━━━━━━━━━━━━━━━━━━━━━━━━━━━━━━━━\u001b[0m \u001b[32m883.7/883.7 kB\u001b[0m \u001b[31m52.5 MB/s\u001b[0m eta \u001b[36m0:00:00\u001b[0m\n",
            "\u001b[?25hDownloading nvidia_cudnn_cu12-9.1.0.70-py3-none-manylinux2014_x86_64.whl (664.8 MB)\n",
            "\u001b[2K   \u001b[90m━━━━━━━━━━━━━━━━━━━━━━━━━━━━━━━━━━━━━━━━\u001b[0m \u001b[32m664.8/664.8 MB\u001b[0m \u001b[31m2.8 MB/s\u001b[0m eta \u001b[36m0:00:00\u001b[0m\n",
            "\u001b[?25hDownloading nvidia_cufft_cu12-11.2.1.3-py3-none-manylinux2014_x86_64.whl (211.5 MB)\n",
            "\u001b[2K   \u001b[90m━━━━━━━━━━━━━━━━━━━━━━━━━━━━━━━━━━━━━━━━\u001b[0m \u001b[32m211.5/211.5 MB\u001b[0m \u001b[31m5.5 MB/s\u001b[0m eta \u001b[36m0:00:00\u001b[0m\n",
            "\u001b[?25hDownloading nvidia_curand_cu12-10.3.5.147-py3-none-manylinux2014_x86_64.whl (56.3 MB)\n",
            "\u001b[2K   \u001b[90m━━━━━━━━━━━━━━━━━━━━━━━━━━━━━━━━━━━━━━━━\u001b[0m \u001b[32m56.3/56.3 MB\u001b[0m \u001b[31m22.9 MB/s\u001b[0m eta \u001b[36m0:00:00\u001b[0m\n",
            "\u001b[?25hDownloading nvidia_cusolver_cu12-11.6.1.9-py3-none-manylinux2014_x86_64.whl (127.9 MB)\n",
            "\u001b[2K   \u001b[90m━━━━━━━━━━━━━━━━━━━━━━━━━━━━━━━━━━━━━━━━\u001b[0m \u001b[32m127.9/127.9 MB\u001b[0m \u001b[31m7.4 MB/s\u001b[0m eta \u001b[36m0:00:00\u001b[0m\n",
            "\u001b[?25hDownloading nvidia_cusparse_cu12-12.3.1.170-py3-none-manylinux2014_x86_64.whl (207.5 MB)\n",
            "\u001b[2K   \u001b[90m━━━━━━━━━━━━━━━━━━━━━━━━━━━━━━━━━━━━━━━━\u001b[0m \u001b[32m207.5/207.5 MB\u001b[0m \u001b[31m5.3 MB/s\u001b[0m eta \u001b[36m0:00:00\u001b[0m\n",
            "\u001b[?25hDownloading nvidia_nccl_cu12-2.21.5-py3-none-manylinux2014_x86_64.whl (188.7 MB)\n",
            "\u001b[2K   \u001b[90m━━━━━━━━━━━━━━━━━━━━━━━━━━━━━━━━━━━━━━━━\u001b[0m \u001b[32m188.7/188.7 MB\u001b[0m \u001b[31m6.0 MB/s\u001b[0m eta \u001b[36m0:00:00\u001b[0m\n",
            "\u001b[?25hDownloading nvidia_nvjitlink_cu12-12.4.127-py3-none-manylinux2014_x86_64.whl (21.1 MB)\n",
            "\u001b[2K   \u001b[90m━━━━━━━━━━━━━━━━━━━━━━━━━━━━━━━━━━━━━━━━\u001b[0m \u001b[32m21.1/21.1 MB\u001b[0m \u001b[31m101.7 MB/s\u001b[0m eta \u001b[36m0:00:00\u001b[0m\n",
            "\u001b[?25hDownloading ultralytics_thop-2.0.15-py3-none-any.whl (28 kB)\n",
            "Installing collected packages: nvidia-nvjitlink-cu12, nvidia-nccl-cu12, nvidia-curand-cu12, nvidia-cufft-cu12, nvidia-cuda-runtime-cu12, nvidia-cuda-nvrtc-cu12, nvidia-cuda-cupti-cu12, nvidia-cublas-cu12, nvidia-cusparse-cu12, nvidia-cudnn-cu12, nvidia-cusolver-cu12, ultralytics-thop, ultralytics\n",
            "  Attempting uninstall: nvidia-nvjitlink-cu12\n",
            "    Found existing installation: nvidia-nvjitlink-cu12 12.5.82\n",
            "    Uninstalling nvidia-nvjitlink-cu12-12.5.82:\n",
            "      Successfully uninstalled nvidia-nvjitlink-cu12-12.5.82\n",
            "  Attempting uninstall: nvidia-nccl-cu12\n",
            "    Found existing installation: nvidia-nccl-cu12 2.23.4\n",
            "    Uninstalling nvidia-nccl-cu12-2.23.4:\n",
            "      Successfully uninstalled nvidia-nccl-cu12-2.23.4\n",
            "  Attempting uninstall: nvidia-curand-cu12\n",
            "    Found existing installation: nvidia-curand-cu12 10.3.6.82\n",
            "    Uninstalling nvidia-curand-cu12-10.3.6.82:\n",
            "      Successfully uninstalled nvidia-curand-cu12-10.3.6.82\n",
            "  Attempting uninstall: nvidia-cufft-cu12\n",
            "    Found existing installation: nvidia-cufft-cu12 11.2.3.61\n",
            "    Uninstalling nvidia-cufft-cu12-11.2.3.61:\n",
            "      Successfully uninstalled nvidia-cufft-cu12-11.2.3.61\n",
            "  Attempting uninstall: nvidia-cuda-runtime-cu12\n",
            "    Found existing installation: nvidia-cuda-runtime-cu12 12.5.82\n",
            "    Uninstalling nvidia-cuda-runtime-cu12-12.5.82:\n",
            "      Successfully uninstalled nvidia-cuda-runtime-cu12-12.5.82\n",
            "  Attempting uninstall: nvidia-cuda-nvrtc-cu12\n",
            "    Found existing installation: nvidia-cuda-nvrtc-cu12 12.5.82\n",
            "    Uninstalling nvidia-cuda-nvrtc-cu12-12.5.82:\n",
            "      Successfully uninstalled nvidia-cuda-nvrtc-cu12-12.5.82\n",
            "  Attempting uninstall: nvidia-cuda-cupti-cu12\n",
            "    Found existing installation: nvidia-cuda-cupti-cu12 12.5.82\n",
            "    Uninstalling nvidia-cuda-cupti-cu12-12.5.82:\n",
            "      Successfully uninstalled nvidia-cuda-cupti-cu12-12.5.82\n",
            "  Attempting uninstall: nvidia-cublas-cu12\n",
            "    Found existing installation: nvidia-cublas-cu12 12.5.3.2\n",
            "    Uninstalling nvidia-cublas-cu12-12.5.3.2:\n",
            "      Successfully uninstalled nvidia-cublas-cu12-12.5.3.2\n",
            "  Attempting uninstall: nvidia-cusparse-cu12\n",
            "    Found existing installation: nvidia-cusparse-cu12 12.5.1.3\n",
            "    Uninstalling nvidia-cusparse-cu12-12.5.1.3:\n",
            "      Successfully uninstalled nvidia-cusparse-cu12-12.5.1.3\n",
            "  Attempting uninstall: nvidia-cudnn-cu12\n",
            "    Found existing installation: nvidia-cudnn-cu12 9.3.0.75\n",
            "    Uninstalling nvidia-cudnn-cu12-9.3.0.75:\n",
            "      Successfully uninstalled nvidia-cudnn-cu12-9.3.0.75\n",
            "  Attempting uninstall: nvidia-cusolver-cu12\n",
            "    Found existing installation: nvidia-cusolver-cu12 11.6.3.83\n",
            "    Uninstalling nvidia-cusolver-cu12-11.6.3.83:\n",
            "      Successfully uninstalled nvidia-cusolver-cu12-11.6.3.83\n",
            "Successfully installed nvidia-cublas-cu12-12.4.5.8 nvidia-cuda-cupti-cu12-12.4.127 nvidia-cuda-nvrtc-cu12-12.4.127 nvidia-cuda-runtime-cu12-12.4.127 nvidia-cudnn-cu12-9.1.0.70 nvidia-cufft-cu12-11.2.1.3 nvidia-curand-cu12-10.3.5.147 nvidia-cusolver-cu12-11.6.1.9 nvidia-cusparse-cu12-12.3.1.170 nvidia-nccl-cu12-2.21.5 nvidia-nvjitlink-cu12-12.4.127 ultralytics-8.3.179 ultralytics-thop-2.0.15\n"
          ]
        }
      ]
    },
    {
      "cell_type": "code",
      "source": [
        "# cv2 for annotations, boxesm trails, numpy for array rel. operations\n",
        "\n",
        "#maths for avergaes, centroid, euclidean or other distances calc (other dist may includean some-customised dist.metric lyk the..depending on the context...(human body isnt perfect polygon...))\n",
        "\n",
        "import cv2\n",
        "import math\n",
        "import numpy as np\n",
        "from ultralytics import YOLO    #YOLO \"you only look once model\"..used here for object detectn.\n",
        "from tqdm import tqdm\n",
        "import math\n",
        "\n"
      ],
      "metadata": {
        "colab": {
          "base_uri": "https://localhost:8080/"
        },
        "id": "4YF7rUgaNYvB",
        "outputId": "27f514cc-bcd4-4287-b5d1-98e7d74aa349"
      },
      "execution_count": 2,
      "outputs": [
        {
          "output_type": "stream",
          "name": "stdout",
          "text": [
            "Creating new Ultralytics Settings v0.0.6 file ✅ \n",
            "View Ultralytics Settings with 'yolo settings' or at '/root/.config/Ultralytics/settings.json'\n",
            "Update Settings with 'yolo settings key=value', i.e. 'yolo settings runs_dir=path/to/dir'. For help see https://docs.ultralytics.com/quickstart/#ultralytics-settings.\n"
          ]
        }
      ]
    },
    {
      "cell_type": "markdown",
      "source": [
        "#video input"
      ],
      "metadata": {
        "id": "M0ZIhTee9i1t"
      }
    },
    {
      "cell_type": "code",
      "source": [
        "from google.colab import files\n",
        "import os\n",
        "\n",
        "uploaded = files.upload()\n",
        "\n",
        "input_vid = \"/content/\" + list(uploaded.keys())[0]\n",
        "annotated_vid = \"/content/output_tennis_full_tracking_video.mp4\"\n"
      ],
      "metadata": {
        "colab": {
          "base_uri": "https://localhost:8080/",
          "height": 71
        },
        "id": "_8DxTLHRNgU3",
        "outputId": "d9f2d411-2faf-4550-b361-7aeb8f0ce7b6"
      },
      "execution_count": 3,
      "outputs": [
        {
          "output_type": "display_data",
          "data": {
            "text/plain": [
              "<IPython.core.display.HTML object>"
            ],
            "text/html": [
              "\n",
              "     <input type=\"file\" id=\"files-ef5cc2b9-9079-4459-a38c-e98707e41311\" name=\"files[]\" multiple disabled\n",
              "        style=\"border:none\" />\n",
              "     <output id=\"result-ef5cc2b9-9079-4459-a38c-e98707e41311\">\n",
              "      Upload widget is only available when the cell has been executed in the\n",
              "      current browser session. Please rerun this cell to enable.\n",
              "      </output>\n",
              "      <script>// Copyright 2017 Google LLC\n",
              "//\n",
              "// Licensed under the Apache License, Version 2.0 (the \"License\");\n",
              "// you may not use this file except in compliance with the License.\n",
              "// You may obtain a copy of the License at\n",
              "//\n",
              "//      http://www.apache.org/licenses/LICENSE-2.0\n",
              "//\n",
              "// Unless required by applicable law or agreed to in writing, software\n",
              "// distributed under the License is distributed on an \"AS IS\" BASIS,\n",
              "// WITHOUT WARRANTIES OR CONDITIONS OF ANY KIND, either express or implied.\n",
              "// See the License for the specific language governing permissions and\n",
              "// limitations under the License.\n",
              "\n",
              "/**\n",
              " * @fileoverview Helpers for google.colab Python module.\n",
              " */\n",
              "(function(scope) {\n",
              "function span(text, styleAttributes = {}) {\n",
              "  const element = document.createElement('span');\n",
              "  element.textContent = text;\n",
              "  for (const key of Object.keys(styleAttributes)) {\n",
              "    element.style[key] = styleAttributes[key];\n",
              "  }\n",
              "  return element;\n",
              "}\n",
              "\n",
              "// Max number of bytes which will be uploaded at a time.\n",
              "const MAX_PAYLOAD_SIZE = 100 * 1024;\n",
              "\n",
              "function _uploadFiles(inputId, outputId) {\n",
              "  const steps = uploadFilesStep(inputId, outputId);\n",
              "  const outputElement = document.getElementById(outputId);\n",
              "  // Cache steps on the outputElement to make it available for the next call\n",
              "  // to uploadFilesContinue from Python.\n",
              "  outputElement.steps = steps;\n",
              "\n",
              "  return _uploadFilesContinue(outputId);\n",
              "}\n",
              "\n",
              "// This is roughly an async generator (not supported in the browser yet),\n",
              "// where there are multiple asynchronous steps and the Python side is going\n",
              "// to poll for completion of each step.\n",
              "// This uses a Promise to block the python side on completion of each step,\n",
              "// then passes the result of the previous step as the input to the next step.\n",
              "function _uploadFilesContinue(outputId) {\n",
              "  const outputElement = document.getElementById(outputId);\n",
              "  const steps = outputElement.steps;\n",
              "\n",
              "  const next = steps.next(outputElement.lastPromiseValue);\n",
              "  return Promise.resolve(next.value.promise).then((value) => {\n",
              "    // Cache the last promise value to make it available to the next\n",
              "    // step of the generator.\n",
              "    outputElement.lastPromiseValue = value;\n",
              "    return next.value.response;\n",
              "  });\n",
              "}\n",
              "\n",
              "/**\n",
              " * Generator function which is called between each async step of the upload\n",
              " * process.\n",
              " * @param {string} inputId Element ID of the input file picker element.\n",
              " * @param {string} outputId Element ID of the output display.\n",
              " * @return {!Iterable<!Object>} Iterable of next steps.\n",
              " */\n",
              "function* uploadFilesStep(inputId, outputId) {\n",
              "  const inputElement = document.getElementById(inputId);\n",
              "  inputElement.disabled = false;\n",
              "\n",
              "  const outputElement = document.getElementById(outputId);\n",
              "  outputElement.innerHTML = '';\n",
              "\n",
              "  const pickedPromise = new Promise((resolve) => {\n",
              "    inputElement.addEventListener('change', (e) => {\n",
              "      resolve(e.target.files);\n",
              "    });\n",
              "  });\n",
              "\n",
              "  const cancel = document.createElement('button');\n",
              "  inputElement.parentElement.appendChild(cancel);\n",
              "  cancel.textContent = 'Cancel upload';\n",
              "  const cancelPromise = new Promise((resolve) => {\n",
              "    cancel.onclick = () => {\n",
              "      resolve(null);\n",
              "    };\n",
              "  });\n",
              "\n",
              "  // Wait for the user to pick the files.\n",
              "  const files = yield {\n",
              "    promise: Promise.race([pickedPromise, cancelPromise]),\n",
              "    response: {\n",
              "      action: 'starting',\n",
              "    }\n",
              "  };\n",
              "\n",
              "  cancel.remove();\n",
              "\n",
              "  // Disable the input element since further picks are not allowed.\n",
              "  inputElement.disabled = true;\n",
              "\n",
              "  if (!files) {\n",
              "    return {\n",
              "      response: {\n",
              "        action: 'complete',\n",
              "      }\n",
              "    };\n",
              "  }\n",
              "\n",
              "  for (const file of files) {\n",
              "    const li = document.createElement('li');\n",
              "    li.append(span(file.name, {fontWeight: 'bold'}));\n",
              "    li.append(span(\n",
              "        `(${file.type || 'n/a'}) - ${file.size} bytes, ` +\n",
              "        `last modified: ${\n",
              "            file.lastModifiedDate ? file.lastModifiedDate.toLocaleDateString() :\n",
              "                                    'n/a'} - `));\n",
              "    const percent = span('0% done');\n",
              "    li.appendChild(percent);\n",
              "\n",
              "    outputElement.appendChild(li);\n",
              "\n",
              "    const fileDataPromise = new Promise((resolve) => {\n",
              "      const reader = new FileReader();\n",
              "      reader.onload = (e) => {\n",
              "        resolve(e.target.result);\n",
              "      };\n",
              "      reader.readAsArrayBuffer(file);\n",
              "    });\n",
              "    // Wait for the data to be ready.\n",
              "    let fileData = yield {\n",
              "      promise: fileDataPromise,\n",
              "      response: {\n",
              "        action: 'continue',\n",
              "      }\n",
              "    };\n",
              "\n",
              "    // Use a chunked sending to avoid message size limits. See b/62115660.\n",
              "    let position = 0;\n",
              "    do {\n",
              "      const length = Math.min(fileData.byteLength - position, MAX_PAYLOAD_SIZE);\n",
              "      const chunk = new Uint8Array(fileData, position, length);\n",
              "      position += length;\n",
              "\n",
              "      const base64 = btoa(String.fromCharCode.apply(null, chunk));\n",
              "      yield {\n",
              "        response: {\n",
              "          action: 'append',\n",
              "          file: file.name,\n",
              "          data: base64,\n",
              "        },\n",
              "      };\n",
              "\n",
              "      let percentDone = fileData.byteLength === 0 ?\n",
              "          100 :\n",
              "          Math.round((position / fileData.byteLength) * 100);\n",
              "      percent.textContent = `${percentDone}% done`;\n",
              "\n",
              "    } while (position < fileData.byteLength);\n",
              "  }\n",
              "\n",
              "  // All done.\n",
              "  yield {\n",
              "    response: {\n",
              "      action: 'complete',\n",
              "    }\n",
              "  };\n",
              "}\n",
              "\n",
              "scope.google = scope.google || {};\n",
              "scope.google.colab = scope.google.colab || {};\n",
              "scope.google.colab._files = {\n",
              "  _uploadFiles,\n",
              "  _uploadFilesContinue,\n",
              "};\n",
              "})(self);\n",
              "</script> "
            ]
          },
          "metadata": {}
        },
        {
          "output_type": "stream",
          "name": "stdout",
          "text": [
            "Saving tennis_video_assignment.mp4 to tennis_video_assignment.mp4\n"
          ]
        }
      ]
    },
    {
      "cell_type": "markdown",
      "source": [
        "#model configuration + parameters"
      ],
      "metadata": {
        "id": "fNvGVYrv9_-Z"
      }
    },
    {
      "cell_type": "code",
      "source": [
        "# Configuration\n",
        "player_detect_model = \"yolov8n.pt\"   #only 2 players hence nano model used..confidence can be adjusted for a greater accuracy or...less number of FPs (less false pos. in player detection)\n",
        "\n",
        "\n",
        "player_confidence = 0.6         #confidence threshold..tried a few values here\n",
        "player_max_trail = 50               # set to 0/1 to remove trails\n",
        "player_max_frames_miss = 50              #how many frames a track can be missed before deactivated\n",
        "player_max_detect_dist = 180        #the maximum distance to match detection to an existing track..trail\n",
        "\n",
        "\n",
        "\n"
      ],
      "metadata": {
        "id": "1_U76aI3NYzl"
      },
      "execution_count": 4,
      "outputs": []
    },
    {
      "cell_type": "markdown",
      "source": [
        "#defining segments & functions"
      ],
      "metadata": {
        "id": "nGvkh10Z-FyR"
      }
    },
    {
      "cell_type": "code",
      "source": [
        "#NOT all parts of the video have the 2 players actively playing tennis...\n",
        "#                                      so we FILTER OUT THE SEGMENTS IN WHICH TENNIS IS BEING PLAYED\n",
        "\n",
        "\n",
        "#                         MANUAL SEGMENTATION is done.\n",
        "#   Criteria - NOT A REPLAY & the TENNIS COURT BEING ENTIRELY VISIBLE"
      ],
      "metadata": {
        "id": "WiHjf2oj8hHt"
      },
      "execution_count": 5,
      "outputs": []
    },
    {
      "cell_type": "code",
      "source": [
        "match_segments_set_to = True\n",
        "tennis_segments = [\n",
        "    # (start_sec, end_sec),\n",
        "    (1, 4), (10, 15), (20, 22), (24, 27), (32, 35), (41,44), (49,51),(69,73),\n",
        "    (76,79), (84,86), (92,100), (107,110), (115,120), (126,129), (137,146), (158,159),\n",
        "    (165,168), (173,175), (180, 183), (188, 189), (200, 206), (212,213) , (216, 218), (225, 227)\n",
        "]\n",
        "\n",
        "#the numbers are in seconds(s) unit...simple maths - Number = (x*60)+y for x:y timestamp on video"
      ],
      "metadata": {
        "id": "PPjVC4mX8cV2"
      },
      "execution_count": 6,
      "outputs": []
    },
    {
      "cell_type": "code",
      "source": [
        "#for displacement/distance covered measurements lets define some vars/funcs\n",
        "# bounding_box_center - avg of extreme most x,y coords of box.\n",
        "# coords represents the tuple containing the coords of extreme most corners of the bounding_box\n",
        "\n",
        "def bounding_box_center(coords):\n",
        "    x1, y1, x2, y2 = coords\n",
        "    return ((x1 + x2) / 2.0, (y1 + y2) / 2.0)\n",
        "\n",
        "#EUCLIDEAN dist is considered..we MAY consider other distances as welll, depending on context..\n",
        "#euclidean dist best for direct/brute distance measurement\n",
        "\n",
        "def euclidean(a, b):\n",
        "    return math.hypot(a[0] - b[0], a[1] - b[1])\n",
        "\n",
        "#colour intialisation for the IDs/names of tennis playrs, Trails & box.\n",
        "\n",
        "def color_for_id(i) :\n",
        "    rng = np.random.RandomState(i)\n",
        "    return tuple(int(x) for x in rng.randint(75, 225, size=3))\n",
        "#75,225 chosen randomly for colours...\n",
        "\n",
        "\n",
        "# func - in_match_segments will process the \"segments\" (of tennis_match) that we earlier segmented manually\n",
        "\n",
        "def in_match_segments(frame_idx, fps):\n",
        "    if not match_segments_set_to or not tennis_segments:\n",
        "        return True\n",
        "    t = frame_idx / max(fps, 1.0)\n",
        "    for s, e in tennis_segments :\n",
        "        if s <= t <= e:\n",
        "            return True\n",
        "    return False\n",
        "\n",
        "\n",
        "\n"
      ],
      "metadata": {
        "id": "wFGGARNCab2X"
      },
      "execution_count": 7,
      "outputs": []
    },
    {
      "cell_type": "markdown",
      "source": [
        "#defining the classes"
      ],
      "metadata": {
        "id": "ioXwjDAm-UYM"
      }
    },
    {
      "cell_type": "code",
      "source": [
        "### class constructor to just note smth...\n",
        "# IDs, coords (centroids), last_frame & skipped_frame (for handling abrupt interuption), path (trail of centroids), cum_distance_pixels (total distnce in pixels)\n",
        "class Track:\n",
        "    def __init__(self, track_id, coords, frame_idx):\n",
        "        self.id = track_id\n",
        "        self.coords = coords  # (x1,y1,x2,y2)\n",
        "        self.centroid = bounding_box_center(coords)\n",
        "        self.last_frame = frame_idx  #older values - forget the player/deactivate the trail\n",
        "        self.skipped_frames = 0                  # for how many frames the player is missing (depnds on player_max_trail as well)\n",
        "        self.path = [self.centroid]\n",
        "        self.cum_distance_pixels = 0.0\n",
        "        self.active = True\n",
        "\n",
        "#updates the new centroid, cummulative_pixel_distance...\n",
        "    def update(self, coords, frame_idx):\n",
        "        new_cent = bounding_box_center(coords)\n",
        "        self.cum_distance_pixels += euclidean(self.centroid, new_cent)\n",
        "        self.coords = coords\n",
        "        self.centroid = new_cent\n",
        "        self.last_frame = frame_idx\n",
        "        self.skipped_frames = 0\n",
        "        self.path.append(new_cent)\n",
        "        if len(self.path) > player_max_trail:\n",
        "            self.path.pop(0)\n",
        "\n",
        "\n",
        "#if theres an omission \"within\" the segmented parts..then a to handle it\n",
        "#no new_ID is issued to detect_object..player in this case instantly after a disappearance n coming back into frame\n",
        "\n",
        "\n",
        "#this would happen rarely..included thos because of \"mistakes\" in manual segmentation..\n",
        "\n",
        "    def mark_missed(self):\n",
        "        self.skipped_frames += 1\n",
        "        if self.skipped_frames > player_max_frames_miss:\n",
        "            self.active = False"
      ],
      "metadata": {
        "id": "oY4sa8hT-R-9"
      },
      "execution_count": 8,
      "outputs": []
    },
    {
      "cell_type": "code",
      "source": [
        "\n",
        "\n",
        "class SimpleTracker:\n",
        "    def __init__(self, max_distance=200):                  #max_distance - sort of opp to skipped frames..\"when\" to forget a player...\n",
        "        self.tracks = []\n",
        "        self.next_id = 1\n",
        "        self.max_distance = max_distance\n",
        "\n",
        "\n",
        "        #            GREEDY chosen because easiest and ASSUMPTION that Player Movement isnt THAT COMPLEX.\n",
        "        #              other options are doing a IoU of the bounding_boxes, hungarian (smallest dist. finder)\n",
        "\n",
        "    def _greedy_assign(self, active_tracks, detections):\n",
        "\n",
        "\n",
        "        if not active_tracks or not detections:\n",
        "            return []\n",
        "\n",
        "\n",
        "        pairs = []\n",
        "        for i, t in enumerate(active_tracks):\n",
        "            tc = t.centroid\n",
        "            for j, b in enumerate(detections):\n",
        "                d = euclidean(tc, bounding_box_center(b))\n",
        "                pairs.append((d, i, j))\n",
        "\n",
        "\n",
        "        pairs.sort(key=lambda x: x[0])\n",
        "        used_tracks, used_dets, matches = set(), set(), []\n",
        "        for d, i, j in pairs:\n",
        "            if d <= self.max_distance and i not in used_tracks and j not in used_dets:\n",
        "                matches.append((i, j))\n",
        "                used_tracks.add(i)\n",
        "                used_dets.add(j)\n",
        "        return matches\n",
        "\n",
        "#first time initialisation....assigns unique IDs..updates (or deactivates if player missing)\n",
        "    def step(self, detections, frame_idx):\n",
        "\n",
        "        if not self.tracks:\n",
        "            for b in detections:\n",
        "                t = Track(self.next_id, b, frame_idx)\n",
        "                self.next_id += 1\n",
        "                self.tracks.append(t)\n",
        "            return [(t.id, t.coords) for t in self.tracks]\n",
        "\n",
        "\n",
        "        active_tracks = [t for t in self.tracks if t.active]\n",
        "\n",
        "\n",
        "        matches = self._greedy_assign(active_tracks, detections)\n",
        "\n",
        "        assigned_track_indices = set()\n",
        "        assigned_det_indices = set()\n",
        "\n",
        "\n",
        "        for i, j in matches:\n",
        "            active_tracks[i].update(detections[j], frame_idx)\n",
        "            assigned_track_indices.add(i)\n",
        "            assigned_det_indices.add(j)\n",
        "\n",
        "\n",
        "        for j, b in enumerate(detections):\n",
        "            if j not in assigned_det_indices:\n",
        "                t = Track(self.next_id, b, frame_idx)\n",
        "                self.next_id += 1\n",
        "                self.tracks.append(t)\n",
        "\n",
        "\n",
        "        for idx, t in enumerate(active_tracks):\n",
        "            if idx not in assigned_track_indices and t.last_frame != frame_idx:\n",
        "                t.mark_missed()\n",
        "\n",
        "\n",
        "        return [(t.id, t.coords) for t in self.tracks if t.last_frame == frame_idx and t.active]\n"
      ],
      "metadata": {
        "id": "Zn-yxLLgab3T"
      },
      "execution_count": 9,
      "outputs": []
    },
    {
      "cell_type": "markdown",
      "source": [
        "#YOLO model deploy + applying segmented timeframe logic + Player Naming"
      ],
      "metadata": {
        "id": "_c-01Ata-bCx"
      }
    },
    {
      "cell_type": "code",
      "source": [
        "#main model loop this...\n",
        "\n",
        "#YOLO model loaded.\n",
        "model = YOLO(player_detect_model)\n",
        "\n",
        "cap = cv2.VideoCapture(input_vid) #input_vid loaded onto the model\n",
        "\n",
        "\n",
        "#get video properties...30.0 is for fallback case.\n",
        "fps = cap.get(cv2.CAP_PROP_FPS) or 30.0\n",
        "width = int(cap.get(cv2.CAP_PROP_FRAME_WIDTH))\n",
        "height = int(cap.get(cv2.CAP_PROP_FRAME_HEIGHT))\n",
        "\n",
        "fourcc = cv2.VideoWriter_fourcc(*\"mp4v\")\n",
        "out = cv2.VideoWriter(annotated_vid, fourcc, fps, (width, height))\n",
        "\n",
        "tracker = SimpleTracker(max_distance=player_max_detect_dist)\n",
        "player_names = {}\n",
        "# New: Persistent logical distances\n",
        "logical_distances = {\"A\": 0.0, \"B\": 0.0}\n",
        "trackid_to_logical = {}\n",
        "frame_idx = 0"
      ],
      "metadata": {
        "id": "KQe8FBovbfm8",
        "colab": {
          "base_uri": "https://localhost:8080/"
        },
        "outputId": "48634bad-8732-447f-e2fc-48ebc0cc1dfe"
      },
      "execution_count": 10,
      "outputs": [
        {
          "output_type": "stream",
          "name": "stderr",
          "text": [
            "Downloading https://github.com/ultralytics/assets/releases/download/v8.3.0/yolov8n.pt to 'yolov8n.pt': 100%|██████████| 6.25M/6.25M [00:00<00:00, 91.0MB/s]\n"
          ]
        }
      ]
    },
    {
      "cell_type": "code",
      "source": [
        "while True:\n",
        "    ret, frame = cap.read()\n",
        "    if not ret:\n",
        "        break\n",
        "#            Checking if the current frame's timestamp lie in the match segments list we made earlirer..only that'll get processed\n",
        "\n",
        "    if in_match_segments(frame_idx, fps):\n",
        "        results = model(frame, verbose=False, classes=[0], conf=player_confidence)     # classes=[0]  refers to class ID 0...a 'person' class in COCO dataset.\n",
        "        dets = []          # Convering detection results into a list of bounding boxes...with x1, y1, x2, y2 as coords\n",
        "\n",
        "        for box in results[0].boxes:\n",
        "            x1, y1, x2, y2 = map(int, box.xyxy[0])\n",
        "            dets.append((x1, y1, x2, y2))\n",
        "\n",
        "\n",
        "\n",
        "        # If more than 2 detections are found..we keep only the top 2 (TOP 2 BY AREA ) (area calc by coords that we have)\n",
        "#again we can cite here abt our assumption OR Problem Statement - ONLY 2 PLAYERS we wanna track.\n",
        "        if len(dets) > 2:\n",
        "            dets = sorted(dets, key=lambda b: (b[2]-b[0])*(b[3]-b[1]), reverse=True)[:2]\n",
        "\n",
        "\n",
        "\n",
        "    # detecttions passed to tracker so that IDs can be maintained\n",
        "        updated = tracker.step(dets, frame_idx)\n",
        "\n",
        "        for track_id, _ in updated:\n",
        "          if track_id not in player_names:\n",
        "            if len(player_names) == 0:\n",
        "               player_names[track_id] = \"Player_1\"\n",
        "            elif len(player_names) == 1:\n",
        "               player_names[track_id] = \"Player_2\"\n",
        "\n",
        "# AS A QUICK FIX ( to avoid using CNNs for accurate player detection..0\n",
        "#-------------------------------------we will assign - \"A\" to the PLAYER ON LEFT OF THE SCREEN, \"B\" to the PLAYER ON RIGHT OF THE SCREEN-----------------------------------------------------------\n",
        "\n",
        "\n",
        "\n",
        "        active_tracks = [t for t in tracker.tracks if t.active]\n",
        "        if len(active_tracks) == 2:\n",
        "            active_sorted = sorted(active_tracks, key=lambda t: t.centroid[0])\n",
        "            left, right = active_sorted\n",
        "\n",
        "            trackid_to_logical[left.id] = \"A\"\n",
        "            trackid_to_logical[right.id] = \"B\"\n",
        "\n",
        "            for player, track in zip([\"A\", \"B\"], [left, right]):\n",
        "                logical_distances[player] += euclidean(track.path[-2], track.path[-1]) if len(track.path) > 1 else 0\n",
        "\n",
        "        for track_id, coords in updated:\n",
        "            tcolor = color_for_id(track_id)\n",
        "            x1, y1, x2, y2 = map(int, coords)\n",
        "            logical_id = trackid_to_logical.get(track_id, None)\n",
        "            if logical_id:\n",
        "                name = f\"Player {logical_id}\"\n",
        "                dist = logical_distances[logical_id]\n",
        "            else:\n",
        "              #fallback mechanism if the player IDs (\"A\" OR \"B\" does NOT get assigned)\n",
        "                name = f\"ID {track_id}\"\n",
        "                dist = 0\n",
        "\n",
        "            cv2.rectangle(frame, (x1, y1), (x2, y2), tcolor, 3)\n",
        "            cv2.putText(frame, f\"{name} {dist:.1f}px\", (x1, max(20, y1 - 10)),\n",
        "                        cv2.FONT_HERSHEY_SIMPLEX, 0.8, tcolor, 2)\n",
        "\n",
        "            tr = next((t for t in tracker.tracks if t.id == track_id), None)\n",
        "\n",
        "            #Trail path drawing\n",
        "            if tr and len(tr.path) > 1 and player_max_trail > 1:\n",
        "                for k in range(1, len(tr.path)):\n",
        "                    p1 = tuple(map(int, tr.path[k-1]))\n",
        "                    p2 = tuple(map(int, tr.path[k]))\n",
        "                    cv2.line(frame, p1, p2, tcolor, 2)\n",
        "            if tr:\n",
        "                c = tuple(map(int, tr.centroid))\n",
        "                cv2.circle(frame, c, 3, tcolor, -1)\n",
        "\n",
        "    out.write(frame)\n",
        "    frame_idx += 1"
      ],
      "metadata": {
        "id": "ASu6voMjbfr9"
      },
      "execution_count": 11,
      "outputs": []
    },
    {
      "cell_type": "code",
      "source": [
        "cap.release()\n",
        "out.release()\n",
        "\n",
        "#standard step to close the video files, file handling sop...\n"
      ],
      "metadata": {
        "id": "eWLW2n1Ybo7o"
      },
      "execution_count": 12,
      "outputs": []
    },
    {
      "cell_type": "code",
      "source": [
        "# final cummulative distances\n",
        "\n",
        "final_A = [(tid, t.cum_distance_pixels) for tid, name in player_names.items() if name == \"Player A\"\n",
        "           for t in tracker.tracks if t.id == tid]\n",
        "final_B = [(tid, t.cum_distance_pixels) for tid, name in player_names.items() if name == \"Player B\"\n",
        "           for t in tracker.tracks if t.id == tid]"
      ],
      "metadata": {
        "id": "aAlo4ZlTbpCm"
      },
      "execution_count": 13,
      "outputs": []
    },
    {
      "cell_type": "markdown",
      "source": [
        "#downloading final output video"
      ],
      "metadata": {
        "id": "5CQyhLEUAo3K"
      }
    },
    {
      "cell_type": "code",
      "source": [
        "from google.colab import files\n",
        "files.download(\"output_tennis_full_tracking_video.mp4\")\n",
        "\n",
        "#downloading the output video file.\n"
      ],
      "metadata": {
        "colab": {
          "base_uri": "https://localhost:8080/",
          "height": 17
        },
        "id": "78ETZ3QbNP1M",
        "outputId": "2938d72f-4334-4770-e5ff-3e61c3ce84b6"
      },
      "execution_count": 14,
      "outputs": [
        {
          "output_type": "display_data",
          "data": {
            "text/plain": [
              "<IPython.core.display.Javascript object>"
            ],
            "application/javascript": [
              "\n",
              "    async function download(id, filename, size) {\n",
              "      if (!google.colab.kernel.accessAllowed) {\n",
              "        return;\n",
              "      }\n",
              "      const div = document.createElement('div');\n",
              "      const label = document.createElement('label');\n",
              "      label.textContent = `Downloading \"${filename}\": `;\n",
              "      div.appendChild(label);\n",
              "      const progress = document.createElement('progress');\n",
              "      progress.max = size;\n",
              "      div.appendChild(progress);\n",
              "      document.body.appendChild(div);\n",
              "\n",
              "      const buffers = [];\n",
              "      let downloaded = 0;\n",
              "\n",
              "      const channel = await google.colab.kernel.comms.open(id);\n",
              "      // Send a message to notify the kernel that we're ready.\n",
              "      channel.send({})\n",
              "\n",
              "      for await (const message of channel.messages) {\n",
              "        // Send a message to notify the kernel that we're ready.\n",
              "        channel.send({})\n",
              "        if (message.buffers) {\n",
              "          for (const buffer of message.buffers) {\n",
              "            buffers.push(buffer);\n",
              "            downloaded += buffer.byteLength;\n",
              "            progress.value = downloaded;\n",
              "          }\n",
              "        }\n",
              "      }\n",
              "      const blob = new Blob(buffers, {type: 'application/binary'});\n",
              "      const a = document.createElement('a');\n",
              "      a.href = window.URL.createObjectURL(blob);\n",
              "      a.download = filename;\n",
              "      div.appendChild(a);\n",
              "      a.click();\n",
              "      div.remove();\n",
              "    }\n",
              "  "
            ]
          },
          "metadata": {}
        },
        {
          "output_type": "display_data",
          "data": {
            "text/plain": [
              "<IPython.core.display.Javascript object>"
            ],
            "application/javascript": [
              "download(\"download_e3aee256-d50f-4cee-b2b6-9283274e16f1\", \"output_tennis_full_tracking_video.mp4\", 804617771)"
            ]
          },
          "metadata": {}
        }
      ]
    }
  ]
}